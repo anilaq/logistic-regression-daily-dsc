{
 "cells": [
  {
   "cell_type": "code",
   "execution_count": 4,
   "metadata": {},
   "outputs": [],
   "source": [
    "import numpy as np\n",
    "import pandas as pd"
   ]
  },
  {
   "cell_type": "markdown",
   "metadata": {},
   "source": [
    "# Problem Understanding"
   ]
  },
  {
   "cell_type": "markdown",
   "metadata": {},
   "source": [
    "The National Health Service has determined that decisive action to treat diabetes is necessary. However, diagnosing it takes hours of doctors that are in high demand.<br>\n",
    "\n",
    "Help them to predict who is diabetic and who is not based on data that non-medical stuff can obtain so that you reduce the number of people who:\n",
    "- get treated without needing it\n",
    "- don't get treated when they actually needed it"
   ]
  },
  {
   "cell_type": "markdown",
   "metadata": {},
   "source": [
    "# Data Understanding"
   ]
  },
  {
   "cell_type": "markdown",
   "metadata": {},
   "source": [
    "https://data.world/data-society/pima-indians-diabetes-database"
   ]
  },
  {
   "cell_type": "code",
   "execution_count": 5,
   "metadata": {},
   "outputs": [
    {
     "name": "stdout",
     "output_type": "stream",
     "text": [
      "(768, 9)\n"
     ]
    },
    {
     "data": {
      "text/html": [
       "<div>\n",
       "<style scoped>\n",
       "    .dataframe tbody tr th:only-of-type {\n",
       "        vertical-align: middle;\n",
       "    }\n",
       "\n",
       "    .dataframe tbody tr th {\n",
       "        vertical-align: top;\n",
       "    }\n",
       "\n",
       "    .dataframe thead th {\n",
       "        text-align: right;\n",
       "    }\n",
       "</style>\n",
       "<table border=\"1\" class=\"dataframe\">\n",
       "  <thead>\n",
       "    <tr style=\"text-align: right;\">\n",
       "      <th></th>\n",
       "      <th>Pregnancies</th>\n",
       "      <th>Glucose</th>\n",
       "      <th>BloodPressure</th>\n",
       "      <th>SkinThickness</th>\n",
       "      <th>Insulin</th>\n",
       "      <th>BMI</th>\n",
       "      <th>DiabetesPedigreeFunction</th>\n",
       "      <th>Age</th>\n",
       "      <th>Outcome</th>\n",
       "    </tr>\n",
       "  </thead>\n",
       "  <tbody>\n",
       "    <tr>\n",
       "      <td>0</td>\n",
       "      <td>6</td>\n",
       "      <td>148</td>\n",
       "      <td>72</td>\n",
       "      <td>35</td>\n",
       "      <td>0</td>\n",
       "      <td>33.6</td>\n",
       "      <td>0.627</td>\n",
       "      <td>50</td>\n",
       "      <td>1</td>\n",
       "    </tr>\n",
       "    <tr>\n",
       "      <td>1</td>\n",
       "      <td>1</td>\n",
       "      <td>85</td>\n",
       "      <td>66</td>\n",
       "      <td>29</td>\n",
       "      <td>0</td>\n",
       "      <td>26.6</td>\n",
       "      <td>0.351</td>\n",
       "      <td>31</td>\n",
       "      <td>0</td>\n",
       "    </tr>\n",
       "    <tr>\n",
       "      <td>2</td>\n",
       "      <td>8</td>\n",
       "      <td>183</td>\n",
       "      <td>64</td>\n",
       "      <td>0</td>\n",
       "      <td>0</td>\n",
       "      <td>23.3</td>\n",
       "      <td>0.672</td>\n",
       "      <td>32</td>\n",
       "      <td>1</td>\n",
       "    </tr>\n",
       "    <tr>\n",
       "      <td>3</td>\n",
       "      <td>1</td>\n",
       "      <td>89</td>\n",
       "      <td>66</td>\n",
       "      <td>23</td>\n",
       "      <td>94</td>\n",
       "      <td>28.1</td>\n",
       "      <td>0.167</td>\n",
       "      <td>21</td>\n",
       "      <td>0</td>\n",
       "    </tr>\n",
       "    <tr>\n",
       "      <td>4</td>\n",
       "      <td>0</td>\n",
       "      <td>137</td>\n",
       "      <td>40</td>\n",
       "      <td>35</td>\n",
       "      <td>168</td>\n",
       "      <td>43.1</td>\n",
       "      <td>2.288</td>\n",
       "      <td>33</td>\n",
       "      <td>1</td>\n",
       "    </tr>\n",
       "  </tbody>\n",
       "</table>\n",
       "</div>"
      ],
      "text/plain": [
       "   Pregnancies  Glucose  BloodPressure  SkinThickness  Insulin   BMI  \\\n",
       "0            6      148             72             35        0  33.6   \n",
       "1            1       85             66             29        0  26.6   \n",
       "2            8      183             64              0        0  23.3   \n",
       "3            1       89             66             23       94  28.1   \n",
       "4            0      137             40             35      168  43.1   \n",
       "\n",
       "   DiabetesPedigreeFunction  Age  Outcome  \n",
       "0                     0.627   50        1  \n",
       "1                     0.351   31        0  \n",
       "2                     0.672   32        1  \n",
       "3                     0.167   21        0  \n",
       "4                     2.288   33        1  "
      ]
     },
     "execution_count": 5,
     "metadata": {},
     "output_type": "execute_result"
    }
   ],
   "source": [
    "df = pd.read_csv('pima-indians-diabetes.csv')\n",
    "print(df.shape)\n",
    "df.head()"
   ]
  },
  {
   "cell_type": "code",
   "execution_count": 6,
   "metadata": {},
   "outputs": [
    {
     "data": {
      "text/html": [
       "<div>\n",
       "<style scoped>\n",
       "    .dataframe tbody tr th:only-of-type {\n",
       "        vertical-align: middle;\n",
       "    }\n",
       "\n",
       "    .dataframe tbody tr th {\n",
       "        vertical-align: top;\n",
       "    }\n",
       "\n",
       "    .dataframe thead th {\n",
       "        text-align: right;\n",
       "    }\n",
       "</style>\n",
       "<table border=\"1\" class=\"dataframe\">\n",
       "  <thead>\n",
       "    <tr style=\"text-align: right;\">\n",
       "      <th></th>\n",
       "      <th>Pregnancies</th>\n",
       "      <th>Glucose</th>\n",
       "      <th>BloodPressure</th>\n",
       "      <th>SkinThickness</th>\n",
       "      <th>Insulin</th>\n",
       "      <th>BMI</th>\n",
       "      <th>DiabetesPedigreeFunction</th>\n",
       "      <th>Age</th>\n",
       "    </tr>\n",
       "  </thead>\n",
       "  <tbody>\n",
       "    <tr>\n",
       "      <td>0</td>\n",
       "      <td>6</td>\n",
       "      <td>148</td>\n",
       "      <td>72</td>\n",
       "      <td>35</td>\n",
       "      <td>0</td>\n",
       "      <td>33.6</td>\n",
       "      <td>0.627</td>\n",
       "      <td>50</td>\n",
       "    </tr>\n",
       "    <tr>\n",
       "      <td>1</td>\n",
       "      <td>1</td>\n",
       "      <td>85</td>\n",
       "      <td>66</td>\n",
       "      <td>29</td>\n",
       "      <td>0</td>\n",
       "      <td>26.6</td>\n",
       "      <td>0.351</td>\n",
       "      <td>31</td>\n",
       "    </tr>\n",
       "    <tr>\n",
       "      <td>2</td>\n",
       "      <td>8</td>\n",
       "      <td>183</td>\n",
       "      <td>64</td>\n",
       "      <td>0</td>\n",
       "      <td>0</td>\n",
       "      <td>23.3</td>\n",
       "      <td>0.672</td>\n",
       "      <td>32</td>\n",
       "    </tr>\n",
       "    <tr>\n",
       "      <td>3</td>\n",
       "      <td>1</td>\n",
       "      <td>89</td>\n",
       "      <td>66</td>\n",
       "      <td>23</td>\n",
       "      <td>94</td>\n",
       "      <td>28.1</td>\n",
       "      <td>0.167</td>\n",
       "      <td>21</td>\n",
       "    </tr>\n",
       "    <tr>\n",
       "      <td>4</td>\n",
       "      <td>0</td>\n",
       "      <td>137</td>\n",
       "      <td>40</td>\n",
       "      <td>35</td>\n",
       "      <td>168</td>\n",
       "      <td>43.1</td>\n",
       "      <td>2.288</td>\n",
       "      <td>33</td>\n",
       "    </tr>\n",
       "  </tbody>\n",
       "</table>\n",
       "</div>"
      ],
      "text/plain": [
       "   Pregnancies  Glucose  BloodPressure  SkinThickness  Insulin   BMI  \\\n",
       "0            6      148             72             35        0  33.6   \n",
       "1            1       85             66             29        0  26.6   \n",
       "2            8      183             64              0        0  23.3   \n",
       "3            1       89             66             23       94  28.1   \n",
       "4            0      137             40             35      168  43.1   \n",
       "\n",
       "   DiabetesPedigreeFunction  Age  \n",
       "0                     0.627   50  \n",
       "1                     0.351   31  \n",
       "2                     0.672   32  \n",
       "3                     0.167   21  \n",
       "4                     2.288   33  "
      ]
     },
     "execution_count": 6,
     "metadata": {},
     "output_type": "execute_result"
    }
   ],
   "source": [
    "X = df.drop('Outcome',axis=1)\n",
    "y = df['Outcome']\n",
    "X.head()"
   ]
  },
  {
   "cell_type": "code",
   "execution_count": 7,
   "metadata": {},
   "outputs": [
    {
     "name": "stdout",
     "output_type": "stream",
     "text": [
      "<class 'pandas.core.frame.DataFrame'>\n",
      "RangeIndex: 768 entries, 0 to 767\n",
      "Data columns (total 9 columns):\n",
      "Pregnancies                 768 non-null int64\n",
      "Glucose                     768 non-null int64\n",
      "BloodPressure               768 non-null int64\n",
      "SkinThickness               768 non-null int64\n",
      "Insulin                     768 non-null int64\n",
      "BMI                         768 non-null float64\n",
      "DiabetesPedigreeFunction    768 non-null float64\n",
      "Age                         768 non-null int64\n",
      "Outcome                     768 non-null int64\n",
      "dtypes: float64(2), int64(7)\n",
      "memory usage: 54.1 KB\n"
     ]
    }
   ],
   "source": [
    "df.info() #here i wanted to check for objects. "
   ]
  },
  {
   "cell_type": "code",
   "execution_count": 8,
   "metadata": {},
   "outputs": [],
   "source": [
    "# great, there are no objects to convert"
   ]
  },
  {
   "cell_type": "markdown",
   "metadata": {},
   "source": [
    "# Data preparation"
   ]
  },
  {
   "cell_type": "markdown",
   "metadata": {},
   "source": [
    "### Split your X data in train and test datasets\n",
    "Here is the documentation: https://scikit-learn.org/stable/modules/generated/sklearn.model_selection.train_test_split.html"
   ]
  },
  {
   "cell_type": "code",
   "execution_count": 9,
   "metadata": {},
   "outputs": [],
   "source": [
    "from sklearn.model_selection import train_test_split\n",
    "#a quick google search tells me that insulin is a big predictor for type 2. \n",
    "y = df['Outcome']\n",
    "X = df.drop(columns=['Outcome'],axis=1)\n",
    "\n",
    "X_train, X_test, y_train, y_test = train_test_split(X, y, random_state=10) #x y train test split for train\n",
    "X_train_v, X_val, y_train_v, y_val = train_test_split(X_train,y_train,test_size=.2, random_state=123)\n",
    "#validation set\n",
    "#final x_train is going to measure \n",
    "#X_val not going to be used to train any models, only to validate \n"
   ]
  },
  {
   "cell_type": "markdown",
   "metadata": {},
   "source": [
    "### Split your train data in train and validation datasets"
   ]
  },
  {
   "cell_type": "markdown",
   "metadata": {},
   "source": [
    "### Scale the 3 datasets using StandardScaler"
   ]
  },
  {
   "cell_type": "code",
   "execution_count": 10,
   "metadata": {},
   "outputs": [],
   "source": [
    "from sklearn.preprocessing import PolynomialFeatures,StandardScaler\n",
    "scaler = StandardScaler()\n",
    "scaler.fit(X_train_v)\n",
    "#import, instantiate (scaler = StandardScale()), fitting, transforming\n",
    "X_train_v = scaler.transform(X_train_v) #only to training data\n",
    "X_val = scaler.transform(X_val)\n",
    "X_test = scaler.transform(X_test)"
   ]
  },
  {
   "cell_type": "code",
   "execution_count": 11,
   "metadata": {},
   "outputs": [
    {
     "data": {
      "text/plain": [
       "array([[-0.55894954, -0.64236961, -0.00787564, ...,  1.10591734,\n",
       "         0.72985177, -0.70307106],\n",
       "       [-1.16679065,  0.26854831, -0.22416176, ...,  0.29751149,\n",
       "        -0.83362671, -0.96022401],\n",
       "       [-0.8628701 , -0.64236961, -0.22416176, ..., -1.09764054,\n",
       "         0.69409654, -0.61735342],\n",
       "       ...,\n",
       "       [-0.8628701 ,  1.35577294,  0.96541193, ...,  0.38878312,\n",
       "         1.47096007,  1.61130546],\n",
       "       [ 0.65673268, -0.23098732,  0.96541193, ..., -0.55001077,\n",
       "        -0.66785249,  2.81135255],\n",
       "       [-1.16679065, -0.08406508, -0.22416176, ...,  0.88425767,\n",
       "        -0.62884679, -0.96022401]])"
      ]
     },
     "execution_count": 11,
     "metadata": {},
     "output_type": "execute_result"
    }
   ],
   "source": [
    "X_train_v"
   ]
  },
  {
   "cell_type": "markdown",
   "metadata": {},
   "source": [
    "# Modelling and Model Evaluation"
   ]
  },
  {
   "cell_type": "markdown",
   "metadata": {},
   "source": [
    "### Train a logistic regression model with NO regularisation"
   ]
  },
  {
   "cell_type": "code",
   "execution_count": 12,
   "metadata": {},
   "outputs": [
    {
     "data": {
      "text/plain": [
       "LogisticRegression(C=1000000000000.0, class_weight=None, dual=False,\n",
       "                   fit_intercept=True, intercept_scaling=1, l1_ratio=None,\n",
       "                   max_iter=100, multi_class='warn', n_jobs=None, penalty='l2',\n",
       "                   random_state=None, solver='liblinear', tol=0.0001, verbose=0,\n",
       "                   warm_start=False)"
      ]
     },
     "execution_count": 12,
     "metadata": {},
     "output_type": "execute_result"
    }
   ],
   "source": [
    "from sklearn.linear_model import LogisticRegression\n",
    "# Instantiate the model\n",
    "logreg = LogisticRegression(C=1e12, solver='liblinear')\n",
    "#because we have not added a constant we need a fit_intercept\n",
    "# Fit the model\n",
    "logreg.fit(X_train, y_train)"
   ]
  },
  {
   "cell_type": "code",
   "execution_count": 13,
   "metadata": {},
   "outputs": [
    {
     "data": {
      "text/plain": [
       "LogisticRegression(C=1.0, class_weight=None, dual=False, fit_intercept=True,\n",
       "                   intercept_scaling=1, l1_ratio=None, max_iter=100,\n",
       "                   multi_class='warn', n_jobs=None, penalty='none',\n",
       "                   random_state=None, solver='lbfgs', tol=0.0001, verbose=0,\n",
       "                   warm_start=False)"
      ]
     },
     "execution_count": 13,
     "metadata": {},
     "output_type": "execute_result"
    }
   ],
   "source": [
    "model = LogisticRegression(penalty='none', solver='lbfgs')\n",
    "model.fit(X_train_v, y_train_v)"
   ]
  },
  {
   "cell_type": "markdown",
   "metadata": {},
   "source": [
    "### Measure the accuracy and ROC_AUC of your model\n",
    "Here is the documentation: https://scikit-learn.org/stable/modules/model_evaluation.html#classification-metrics"
   ]
  },
  {
   "cell_type": "code",
   "execution_count": 14,
   "metadata": {},
   "outputs": [
    {
     "data": {
      "text/html": [
       "<div>\n",
       "<style scoped>\n",
       "    .dataframe tbody tr th:only-of-type {\n",
       "        vertical-align: middle;\n",
       "    }\n",
       "\n",
       "    .dataframe tbody tr th {\n",
       "        vertical-align: top;\n",
       "    }\n",
       "\n",
       "    .dataframe thead th {\n",
       "        text-align: right;\n",
       "    }\n",
       "</style>\n",
       "<table border=\"1\" class=\"dataframe\">\n",
       "  <thead>\n",
       "    <tr style=\"text-align: right;\">\n",
       "      <th></th>\n",
       "      <th>Pregnancies</th>\n",
       "      <th>Glucose</th>\n",
       "      <th>BloodPressure</th>\n",
       "      <th>SkinThickness</th>\n",
       "      <th>Insulin</th>\n",
       "      <th>BMI</th>\n",
       "      <th>DiabetesPedigreeFunction</th>\n",
       "      <th>Age</th>\n",
       "    </tr>\n",
       "  </thead>\n",
       "  <tbody>\n",
       "    <tr>\n",
       "      <td>235</td>\n",
       "      <td>4</td>\n",
       "      <td>171</td>\n",
       "      <td>72</td>\n",
       "      <td>0</td>\n",
       "      <td>0</td>\n",
       "      <td>43.6</td>\n",
       "      <td>0.479</td>\n",
       "      <td>26</td>\n",
       "    </tr>\n",
       "    <tr>\n",
       "      <td>576</td>\n",
       "      <td>6</td>\n",
       "      <td>108</td>\n",
       "      <td>44</td>\n",
       "      <td>20</td>\n",
       "      <td>130</td>\n",
       "      <td>24.0</td>\n",
       "      <td>0.813</td>\n",
       "      <td>35</td>\n",
       "    </tr>\n",
       "    <tr>\n",
       "      <td>22</td>\n",
       "      <td>7</td>\n",
       "      <td>196</td>\n",
       "      <td>90</td>\n",
       "      <td>0</td>\n",
       "      <td>0</td>\n",
       "      <td>39.8</td>\n",
       "      <td>0.451</td>\n",
       "      <td>41</td>\n",
       "    </tr>\n",
       "    <tr>\n",
       "      <td>451</td>\n",
       "      <td>2</td>\n",
       "      <td>134</td>\n",
       "      <td>70</td>\n",
       "      <td>0</td>\n",
       "      <td>0</td>\n",
       "      <td>28.9</td>\n",
       "      <td>0.542</td>\n",
       "      <td>23</td>\n",
       "    </tr>\n",
       "    <tr>\n",
       "      <td>616</td>\n",
       "      <td>6</td>\n",
       "      <td>117</td>\n",
       "      <td>96</td>\n",
       "      <td>0</td>\n",
       "      <td>0</td>\n",
       "      <td>28.7</td>\n",
       "      <td>0.157</td>\n",
       "      <td>30</td>\n",
       "    </tr>\n",
       "    <tr>\n",
       "      <td>...</td>\n",
       "      <td>...</td>\n",
       "      <td>...</td>\n",
       "      <td>...</td>\n",
       "      <td>...</td>\n",
       "      <td>...</td>\n",
       "      <td>...</td>\n",
       "      <td>...</td>\n",
       "      <td>...</td>\n",
       "    </tr>\n",
       "    <tr>\n",
       "      <td>369</td>\n",
       "      <td>1</td>\n",
       "      <td>133</td>\n",
       "      <td>102</td>\n",
       "      <td>28</td>\n",
       "      <td>140</td>\n",
       "      <td>32.8</td>\n",
       "      <td>0.234</td>\n",
       "      <td>45</td>\n",
       "    </tr>\n",
       "    <tr>\n",
       "      <td>320</td>\n",
       "      <td>4</td>\n",
       "      <td>129</td>\n",
       "      <td>60</td>\n",
       "      <td>12</td>\n",
       "      <td>231</td>\n",
       "      <td>27.5</td>\n",
       "      <td>0.527</td>\n",
       "      <td>31</td>\n",
       "    </tr>\n",
       "    <tr>\n",
       "      <td>527</td>\n",
       "      <td>3</td>\n",
       "      <td>116</td>\n",
       "      <td>74</td>\n",
       "      <td>15</td>\n",
       "      <td>105</td>\n",
       "      <td>26.3</td>\n",
       "      <td>0.107</td>\n",
       "      <td>24</td>\n",
       "    </tr>\n",
       "    <tr>\n",
       "      <td>125</td>\n",
       "      <td>1</td>\n",
       "      <td>88</td>\n",
       "      <td>30</td>\n",
       "      <td>42</td>\n",
       "      <td>99</td>\n",
       "      <td>55.0</td>\n",
       "      <td>0.496</td>\n",
       "      <td>26</td>\n",
       "    </tr>\n",
       "    <tr>\n",
       "      <td>265</td>\n",
       "      <td>5</td>\n",
       "      <td>96</td>\n",
       "      <td>74</td>\n",
       "      <td>18</td>\n",
       "      <td>67</td>\n",
       "      <td>33.6</td>\n",
       "      <td>0.997</td>\n",
       "      <td>43</td>\n",
       "    </tr>\n",
       "  </tbody>\n",
       "</table>\n",
       "<p>576 rows × 8 columns</p>\n",
       "</div>"
      ],
      "text/plain": [
       "     Pregnancies  Glucose  BloodPressure  SkinThickness  Insulin   BMI  \\\n",
       "235            4      171             72              0        0  43.6   \n",
       "576            6      108             44             20      130  24.0   \n",
       "22             7      196             90              0        0  39.8   \n",
       "451            2      134             70              0        0  28.9   \n",
       "616            6      117             96              0        0  28.7   \n",
       "..           ...      ...            ...            ...      ...   ...   \n",
       "369            1      133            102             28      140  32.8   \n",
       "320            4      129             60             12      231  27.5   \n",
       "527            3      116             74             15      105  26.3   \n",
       "125            1       88             30             42       99  55.0   \n",
       "265            5       96             74             18       67  33.6   \n",
       "\n",
       "     DiabetesPedigreeFunction  Age  \n",
       "235                     0.479   26  \n",
       "576                     0.813   35  \n",
       "22                      0.451   41  \n",
       "451                     0.542   23  \n",
       "616                     0.157   30  \n",
       "..                        ...  ...  \n",
       "369                     0.234   45  \n",
       "320                     0.527   31  \n",
       "527                     0.107   24  \n",
       "125                     0.496   26  \n",
       "265                     0.997   43  \n",
       "\n",
       "[576 rows x 8 columns]"
      ]
     },
     "execution_count": 14,
     "metadata": {},
     "output_type": "execute_result"
    }
   ],
   "source": [
    "X_train"
   ]
  },
  {
   "cell_type": "code",
   "execution_count": 15,
   "metadata": {},
   "outputs": [],
   "source": [
    "from sklearn.metrics import accuracy_score, roc_auc_score, roc_curve, auc\n",
    "\n",
    "# Calculate the probability scores of each point in the training set\n",
    "y_train_score = logreg.predict_proba(X_train)[:,1] #probability prediction\n",
    "\n",
    "# Calculate the fpr, tpr, and thresholds for the training set\n",
    "train_fpr, train_tpr, thresholds = roc_curve(y_train, y_train_score)\n",
    "\n",
    "# Calculate the probability scores of each point in the test set\n",
    "y_val_score = logreg.predict_proba(X_val)[:, 1]\n",
    "\n",
    "# Calculate the fpr, tpr, and thresholds for the test set\n",
    "val_fpr, val_tpr, val_thresholds = roc_curve(y_val, y_val_score)\n"
   ]
  },
  {
   "cell_type": "code",
   "execution_count": 16,
   "metadata": {},
   "outputs": [
    {
     "name": "stdout",
     "output_type": "stream",
     "text": [
      "Training AUC: 0.8491622356455003\n"
     ]
    },
    {
     "data": {
      "image/png": "[encoded data removed]",
      "text/plain": [
       "<Figure size 720x576 with 1 Axes>"
      ]
     },
     "metadata": {},
     "output_type": "display_data"
    }
   ],
   "source": [
    "import matplotlib.pyplot as plt\n",
    "import seaborn as sns\n",
    "%matplotlib inline\n",
    "\n",
    "# Seaborn's beautiful styling\n",
    "sns.set_style('darkgrid', {'axes.facecolor': '0.9'})\n",
    "\n",
    "# ROC curve for training set\n",
    "plt.figure(figsize=(10, 8))\n",
    "lw = 2\n",
    "plt.plot(train_fpr, train_tpr, color='darkorange',\n",
    "         lw=lw, label='ROC curve')\n",
    "plt.plot([0, 1], [0, 1], color='navy', lw=lw, linestyle='--')\n",
    "plt.xlim([0.0, 1.0])\n",
    "plt.ylim([0.0, 1.05])\n",
    "plt.yticks([i/20.0 for i in range(21)])\n",
    "plt.xticks([i/20.0 for i in range(21)])\n",
    "plt.xlabel('False Positive Rate')\n",
    "plt.ylabel('True Positive Rate')\n",
    "plt.title('Receiver operating characteristic (ROC) Curve for Training Set')\n",
    "plt.legend(loc='lower right')\n",
    "print('Training AUC: {}'.format(auc(train_fpr, train_tpr)))\n",
    "plt.show()"
   ]
  },
  {
   "cell_type": "code",
   "execution_count": null,
   "metadata": {},
   "outputs": [],
   "source": []
  },
  {
   "cell_type": "markdown",
   "metadata": {},
   "source": [
    "This training ROC-AUC is better than chance. "
   ]
  },
  {
   "cell_type": "markdown",
   "metadata": {},
   "source": [
    "### Train a logistic regression model with L1 regularisation"
   ]
  },
  {
   "cell_type": "code",
   "execution_count": 17,
   "metadata": {},
   "outputs": [
    {
     "data": {
      "text/plain": [
       "LogisticRegression(C=1.0, class_weight=None, dual=False, fit_intercept=True,\n",
       "                   intercept_scaling=1, l1_ratio=None, max_iter=100,\n",
       "                   multi_class='warn', n_jobs=None, penalty='l1',\n",
       "                   random_state=None, solver='liblinear', tol=0.0001, verbose=0,\n",
       "                   warm_start=False)"
      ]
     },
     "execution_count": 17,
     "metadata": {},
     "output_type": "execute_result"
    }
   ],
   "source": [
    "clf = LogisticRegression(penalty='l1', solver='liblinear')\n",
    "clf.fit(X_train, y_train)\n",
    "  "
   ]
  },
  {
   "cell_type": "markdown",
   "metadata": {},
   "source": [
    "### Measure the accuracy and ROC_AUC of your model\n"
   ]
  },
  {
   "cell_type": "code",
   "execution_count": 19,
   "metadata": {},
   "outputs": [
    {
     "ename": "ValueError",
     "evalue": "Classification metrics can't handle a mix of binary and continuous targets",
     "output_type": "error",
     "traceback": [
      "\u001b[0;31m---------------------------------------------------------------------------\u001b[0m",
      "\u001b[0;31mValueError\u001b[0m                                Traceback (most recent call last)",
      "\u001b[0;32m<ipython-input-19-747dd0dfe090>\u001b[0m in \u001b[0;36m<module>\u001b[0;34m\u001b[0m\n\u001b[1;32m      1\u001b[0m \u001b[0;32mfrom\u001b[0m \u001b[0msklearn\u001b[0m\u001b[0;34m.\u001b[0m\u001b[0mmetrics\u001b[0m \u001b[0;32mimport\u001b[0m \u001b[0maccuracy_score\u001b[0m\u001b[0;34m,\u001b[0m \u001b[0mroc_curve\u001b[0m\u001b[0;34m\u001b[0m\u001b[0;34m\u001b[0m\u001b[0m\n\u001b[1;32m      2\u001b[0m \u001b[0my_pred\u001b[0m \u001b[0;34m=\u001b[0m \u001b[0mclf\u001b[0m\u001b[0;34m.\u001b[0m\u001b[0mpredict_proba\u001b[0m\u001b[0;34m(\u001b[0m\u001b[0mX_val\u001b[0m\u001b[0;34m)\u001b[0m\u001b[0;34m[\u001b[0m\u001b[0;34m:\u001b[0m\u001b[0;34m,\u001b[0m\u001b[0;34m-\u001b[0m\u001b[0;36m1\u001b[0m\u001b[0;34m]\u001b[0m\u001b[0;34m\u001b[0m\u001b[0;34m\u001b[0m\u001b[0m\n\u001b[0;32m----> 3\u001b[0;31m \u001b[0mprint\u001b[0m\u001b[0;34m(\u001b[0m\u001b[0;34m\"Accuracy score:\"\u001b[0m\u001b[0;34m,\u001b[0m \u001b[0maccuracy_score\u001b[0m\u001b[0;34m(\u001b[0m\u001b[0my_val\u001b[0m\u001b[0;34m,\u001b[0m \u001b[0my_pred\u001b[0m\u001b[0;34m)\u001b[0m\u001b[0;34m)\u001b[0m\u001b[0;34m\u001b[0m\u001b[0;34m\u001b[0m\u001b[0m\n\u001b[0m\u001b[1;32m      4\u001b[0m \u001b[0mprint\u001b[0m\u001b[0;34m(\u001b[0m\u001b[0;34m\"ROC model:\"\u001b[0m\u001b[0;34m,\u001b[0m \u001b[0mroc_curve\u001b[0m\u001b[0;34m(\u001b[0m\u001b[0my_val\u001b[0m\u001b[0;34m,\u001b[0m \u001b[0my_pred\u001b[0m\u001b[0;34m)\u001b[0m\u001b[0;34m)\u001b[0m\u001b[0;34m\u001b[0m\u001b[0;34m\u001b[0m\u001b[0m\n",
      "\u001b[0;32m/usr/local/anaconda3/lib/python3.7/site-packages/sklearn/metrics/classification.py\u001b[0m in \u001b[0;36maccuracy_score\u001b[0;34m(y_true, y_pred, normalize, sample_weight)\u001b[0m\n\u001b[1;32m    174\u001b[0m \u001b[0;34m\u001b[0m\u001b[0m\n\u001b[1;32m    175\u001b[0m     \u001b[0;31m# Compute accuracy for each possible representation\u001b[0m\u001b[0;34m\u001b[0m\u001b[0;34m\u001b[0m\u001b[0;34m\u001b[0m\u001b[0m\n\u001b[0;32m--> 176\u001b[0;31m     \u001b[0my_type\u001b[0m\u001b[0;34m,\u001b[0m \u001b[0my_true\u001b[0m\u001b[0;34m,\u001b[0m \u001b[0my_pred\u001b[0m \u001b[0;34m=\u001b[0m \u001b[0m_check_targets\u001b[0m\u001b[0;34m(\u001b[0m\u001b[0my_true\u001b[0m\u001b[0;34m,\u001b[0m \u001b[0my_pred\u001b[0m\u001b[0;34m)\u001b[0m\u001b[0;34m\u001b[0m\u001b[0;34m\u001b[0m\u001b[0m\n\u001b[0m\u001b[1;32m    177\u001b[0m     \u001b[0mcheck_consistent_length\u001b[0m\u001b[0;34m(\u001b[0m\u001b[0my_true\u001b[0m\u001b[0;34m,\u001b[0m \u001b[0my_pred\u001b[0m\u001b[0;34m,\u001b[0m \u001b[0msample_weight\u001b[0m\u001b[0;34m)\u001b[0m\u001b[0;34m\u001b[0m\u001b[0;34m\u001b[0m\u001b[0m\n\u001b[1;32m    178\u001b[0m     \u001b[0;32mif\u001b[0m \u001b[0my_type\u001b[0m\u001b[0;34m.\u001b[0m\u001b[0mstartswith\u001b[0m\u001b[0;34m(\u001b[0m\u001b[0;34m'multilabel'\u001b[0m\u001b[0;34m)\u001b[0m\u001b[0;34m:\u001b[0m\u001b[0;34m\u001b[0m\u001b[0;34m\u001b[0m\u001b[0m\n",
      "\u001b[0;32m/usr/local/anaconda3/lib/python3.7/site-packages/sklearn/metrics/classification.py\u001b[0m in \u001b[0;36m_check_targets\u001b[0;34m(y_true, y_pred)\u001b[0m\n\u001b[1;32m     79\u001b[0m     \u001b[0;32mif\u001b[0m \u001b[0mlen\u001b[0m\u001b[0;34m(\u001b[0m\u001b[0my_type\u001b[0m\u001b[0;34m)\u001b[0m \u001b[0;34m>\u001b[0m \u001b[0;36m1\u001b[0m\u001b[0;34m:\u001b[0m\u001b[0;34m\u001b[0m\u001b[0;34m\u001b[0m\u001b[0m\n\u001b[1;32m     80\u001b[0m         raise ValueError(\"Classification metrics can't handle a mix of {0} \"\n\u001b[0;32m---> 81\u001b[0;31m                          \"and {1} targets\".format(type_true, type_pred))\n\u001b[0m\u001b[1;32m     82\u001b[0m \u001b[0;34m\u001b[0m\u001b[0m\n\u001b[1;32m     83\u001b[0m     \u001b[0;31m# We can't have more than one value on y_type => The set is no more needed\u001b[0m\u001b[0;34m\u001b[0m\u001b[0;34m\u001b[0m\u001b[0;34m\u001b[0m\u001b[0m\n",
      "\u001b[0;31mValueError\u001b[0m: Classification metrics can't handle a mix of binary and continuous targets"
     ]
    }
   ],
   "source": [
    "from sklearn.metrics import accuracy_score, roc_curve\n",
    "y_pred = clf.predict_proba(X_val)[:,-1]\n",
    "print(\"Accuracy score:\", accuracy_score(y_val, y_pred))\n",
    "print(\"ROC model:\", roc_curve(y_val, y_pred))"
   ]
  },
  {
   "cell_type": "code",
   "execution_count": 26,
   "metadata": {},
   "outputs": [],
   "source": [
    "# Calculate the probability scores of each point in the training set\n",
    "y_train_score = clf.predict_proba(X_train)[:,1] #probability prediction\n",
    "\n",
    "# Calculate the fpr, tpr, and thresholds for the training set\n",
    "train_fpr, train_tpr, thresholds = roc_curve(y_train, y_train_score)\n",
    "\n",
    "# Calculate the probability scores of each point in the test set\n",
    "y_val_score = clf.predict_proba(X_val)[:, 1]\n",
    "\n",
    "# Calculate the fpr, tpr, and thresholds for the test set\n",
    "val_fpr, val_tpr, val_thresholds = roc_curve(y_val, y_val_score)\n"
   ]
  },
  {
   "cell_type": "code",
   "execution_count": 27,
   "metadata": {
    "scrolled": true
   },
   "outputs": [
    {
     "name": "stdout",
     "output_type": "stream",
     "text": [
      "Training AUC: 0.8483184442093138\n"
     ]
    },
    {
     "data": {
      "image/png": "[encoded data removed]",
      "text/plain": [
       "<Figure size 720x576 with 1 Axes>"
      ]
     },
     "metadata": {},
     "output_type": "display_data"
    }
   ],
   "source": [
    "import matplotlib.pyplot as plt\n",
    "import seaborn as sns\n",
    "%matplotlib inline\n",
    "\n",
    "# Seaborn's beautiful styling\n",
    "sns.set_style('darkgrid', {'axes.facecolor': '0.9'})\n",
    "\n",
    "# ROC curve for training set\n",
    "plt.figure(figsize=(10, 8))\n",
    "lw = 2\n",
    "plt.plot(train_fpr, train_tpr, color='darkorange',\n",
    "         lw=lw, label='ROC curve')\n",
    "plt.plot([0, 1], [0, 1], color='navy', lw=lw, linestyle='--')\n",
    "plt.xlim([0.0, 1.0])\n",
    "plt.ylim([0.0, 1.05])\n",
    "plt.yticks([i/20.0 for i in range(21)])\n",
    "plt.xticks([i/20.0 for i in range(21)])\n",
    "plt.xlabel('False Positive Rate')\n",
    "plt.ylabel('True Positive Rate')\n",
    "plt.title('Receiver operating characteristic (ROC) Curve for Training Set')\n",
    "plt.legend(loc='lower right')\n",
    "print('Training AUC: {}'.format(auc(train_fpr, train_tpr)))\n",
    "plt.show()"
   ]
  },
  {
   "cell_type": "markdown",
   "metadata": {},
   "source": [
    "## Which model did you choose? Explain your reasoning"
   ]
  },
  {
   "cell_type": "markdown",
   "metadata": {},
   "source": [
    "CLF L1 penatly. This means that lasso is more accurate for fitting the model. As seen above, regularisation with a penalty of l2 (ridge) it's AUC is not as strong. This could be because lasso performs estimation and selection. "
   ]
  },
  {
   "cell_type": "markdown",
   "metadata": {},
   "source": [
    "The ROC-AUC model is more accurate than the logistic regression model with L1 regularisation. \n",
    " "
   ]
  },
  {
   "cell_type": "markdown",
   "metadata": {},
   "source": [
    "# Interprete your winning model"
   ]
  },
  {
   "cell_type": "markdown",
   "metadata": {},
   "source": [
    "### Extract your intercept and coefficients"
   ]
  },
  {
   "cell_type": "code",
   "execution_count": 18,
   "metadata": {},
   "outputs": [
    {
     "name": "stdout",
     "output_type": "stream",
     "text": [
      "The coefficiet's: [[ 0.07739446  0.0357404  -0.01388255  0.00497801 -0.00103978  0.07528403\n",
      "   0.56118594  0.02436624]]\n",
      "The intercept: [-8.06656437]\n"
     ]
    }
   ],
   "source": [
    "print(\"The coefficiet's:\", clf.coef_)\n",
    "print(\"The intercept:\", clf.intercept_)"
   ]
  },
  {
   "cell_type": "markdown",
   "metadata": {},
   "source": [
    "### Show the difference in probabilities when changing the value of one of your predictors"
   ]
  },
  {
   "cell_type": "code",
   "execution_count": 36,
   "metadata": {
    "scrolled": true
   },
   "outputs": [
    {
     "data": {
      "text/plain": [
       "array([-8.80448624])"
      ]
     },
     "execution_count": 36,
     "metadata": {},
     "output_type": "execute_result"
    }
   ],
   "source": [
    "logreg.intercept_"
   ]
  },
  {
   "cell_type": "code",
   "execution_count": 37,
   "metadata": {},
   "outputs": [
    {
     "data": {
      "text/plain": [
       "array([[ 0.07952281,  0.03761004, -0.01304232,  0.0047525 , -0.00119924,\n",
       "         0.08382762,  0.73740353,  0.02641964]])"
      ]
     },
     "execution_count": 37,
     "metadata": {},
     "output_type": "execute_result"
    }
   ],
   "source": [
    "logreg.coef_"
   ]
  },
  {
   "cell_type": "code",
   "execution_count": 33,
   "metadata": {
    "scrolled": true
   },
   "outputs": [
    {
     "name": "stdout",
     "output_type": "stream",
     "text": [
      "probability_class_1: [0.84565033 0.20357156 0.93714722 0.25186022 0.13414179 0.15907669\n",
      " 0.03515887 0.84455626 0.52386273 0.13911344 0.15138633 0.42501778\n",
      " 0.59161522 0.18652593 0.17895114 0.08166215 0.62864787 0.60569627\n",
      " 0.21616386 0.15259287 0.19236252 0.6914822  0.20594073 0.69337556\n",
      " 0.10966471 0.04186768 0.05577731 0.77556262 0.10516935 0.0981805\n",
      " 0.11959004 0.85129522 0.38938644 0.16857352 0.56062229 0.91336967\n",
      " 0.26403916 0.14652417 0.13941335 0.10009141 0.30571782 0.23991055\n",
      " 0.15119495 0.01541646 0.14275329 0.11010834 0.09660487 0.84435214\n",
      " 0.03086483 0.3216172  0.13411726 0.30558055 0.02463236 0.07713082\n",
      " 0.31127289 0.62838333 0.14155114 0.39009029 0.39873698 0.03231894\n",
      " 0.89566479 0.86887094 0.79496742 0.12845467 0.08059409 0.12773324\n",
      " 0.83135949 0.62094484 0.02110375 0.27570391 0.11606384 0.26681507\n",
      " 0.72552111 0.17202461 0.39393877 0.22977081 0.30237108 0.26116727\n",
      " 0.0895746  0.24303639 0.95327867 0.94862326 0.88062436 0.11081453\n",
      " 0.14317409 0.9905758  0.20415635 0.10527201 0.0362226  0.37780286\n",
      " 0.14199869 0.1491902  0.0696917  0.75923074 0.13042608 0.1185708\n",
      " 0.22288927 0.34949271 0.66033202 0.89307231 0.09004158 0.92048711\n",
      " 0.29435539 0.53058162 0.75465847 0.29891271 0.27755501 0.10539965\n",
      " 0.29421054 0.4502274  0.07814664 0.1650526  0.06001652 0.79706604\n",
      " 0.24837917 0.09375433 0.3055368  0.8974294  0.29424995 0.88047367\n",
      " 0.09624924 0.95841311 0.28634524 0.72499864 0.71686269 0.07620522\n",
      " 0.08981391 0.03321345 0.73660718 0.41960676 0.79339049 0.03097935\n",
      " 0.4279691  0.09573926 0.92400272 0.35795415 0.10527989 0.86249156\n",
      " 0.13584771 0.43851081 0.40286594 0.28526778 0.05203519 0.60394909\n",
      " 0.07455605 0.47057843 0.05170995 0.11138166 0.04434432 0.08744169\n",
      " 0.18574002 0.03701301 0.03885197 0.06488242 0.60971247 0.14778681\n",
      " 0.27229224 0.09483405 0.08629475 0.15465336 0.04393824 0.4562126\n",
      " 0.04391257 0.86102139 0.66102686 0.68506126 0.27230517 0.5297729\n",
      " 0.19344748 0.08896635 0.70915699 0.18788181 0.00545447 0.07608137\n",
      " 0.7517812  0.67476323 0.03655165 0.09183336 0.5207618  0.1500119\n",
      " 0.23213625 0.18459914 0.34713335 0.07652714 0.2757296  0.70023574\n",
      " 0.30277729 0.6727803  0.27012705 0.22266878 0.86730447 0.46433333\n",
      " 0.14756841 0.71463399 0.56880256 0.55503579 0.35476541 0.65146195\n",
      " 0.47329891 0.31782292 0.57998076 0.40277834 0.20590626 0.00778629\n",
      " 0.16922575 0.02344002 0.31842324 0.04927738 0.03107471 0.10454401\n",
      " 0.07061485 0.56929764 0.1483378  0.0908186  0.7780725  0.10027726\n",
      " 0.15684839 0.83530175 0.27977583 0.06080626 0.36518935 0.95562379\n",
      " 0.35335469 0.20565506 0.1169948  0.06567533 0.04644607 0.10233673\n",
      " 0.05725155 0.64564996 0.25394934 0.69158156 0.01292138 0.40842333\n",
      " 0.04847919 0.77946449 0.12086837 0.04068727 0.87714788 0.28348114\n",
      " 0.93142288 0.43414397 0.10647712 0.4503395  0.00149978 0.9510018\n",
      " 0.05603545 0.30310163 0.27239948 0.07863442 0.24990347 0.69415209\n",
      " 0.06675109 0.14710721 0.06090453 0.64762272 0.31867149 0.16214068\n",
      " 0.06884478 0.7724579  0.31157694 0.20692878 0.87228085 0.0958277\n",
      " 0.74792586 0.15958075 0.71863366 0.06511492 0.10116621 0.82940111\n",
      " 0.41627505 0.6772131  0.13069069 0.89816525 0.88321282 0.19337151\n",
      " 0.11159294 0.10089025 0.22537616 0.35183348 0.35671549 0.27088324\n",
      " 0.95999611 0.67484859 0.25045422 0.28394992 0.81576396 0.2316764\n",
      " 0.76382608 0.08516711 0.31538603 0.57578988 0.17016536 0.01189258\n",
      " 0.13647437 0.03865991 0.83755497 0.04248513 0.25656592 0.05071409\n",
      " 0.38021473 0.01867255 0.25059935 0.61136476 0.10143103 0.29738896\n",
      " 0.19513536 0.15432458 0.46098146 0.21780204 0.17502077 0.13485168\n",
      " 0.30745167 0.52104583 0.05069305 0.48174976 0.12546572 0.38458538\n",
      " 0.54923574 0.36938428 0.88068908 0.36928444 0.72611953 0.20415617\n",
      " 0.01739688 0.22846548 0.51689637 0.69168967 0.05200894 0.15994689\n",
      " 0.16529113 0.13649672 0.5711898  0.64743019 0.15575452 0.24060356\n",
      " 0.07402335 0.58239137 0.05279902 0.21794797 0.22301036 0.28467914\n",
      " 0.33796912 0.7058714  0.12758913 0.9655325  0.00768689 0.29015919\n",
      " 0.35068296 0.08659371 0.61941963 0.27944544 0.03589857 0.03855702\n",
      " 0.30680672 0.22823139 0.36876022 0.01248469 0.23574132 0.19884979\n",
      " 0.12635812 0.1646794  0.48303629 0.1675223  0.06964991 0.28266376\n",
      " 0.73450268 0.13193503 0.02841208 0.21875497 0.44368547 0.11596669\n",
      " 0.56694881 0.10606537 0.42463521 0.62427527 0.16761625 0.96415731\n",
      " 0.7438676  0.04223416 0.01948758 0.10855722 0.82617524 0.90037736\n",
      " 0.72864168 0.82857048 0.09135188 0.16077448 0.92711799 0.08747448\n",
      " 0.37172763 0.07448552 0.16421011 0.86893706 0.48045861 0.82876798\n",
      " 0.24894432 0.42738642 0.19427051 0.06785242 0.75201635 0.70301832\n",
      " 0.10007414 0.45301359 0.1590439  0.68915841 0.06288924 0.416067\n",
      " 0.03545302 0.19598333 0.04339472 0.03745319 0.22272917 0.04038293\n",
      " 0.37315572 0.5818913  0.02910097 0.18427348 0.07532016 0.37428148\n",
      " 0.16921547 0.66583701 0.12918429 0.52592184 0.09798748 0.95728971\n",
      " 0.06371913 0.36182995 0.20236635 0.55582342 0.19969256 0.28809462\n",
      " 0.3459232  0.78224418 0.07411284 0.37507989 0.0337885  0.05444616\n",
      " 0.61323859 0.21473179 0.67283646 0.16472557 0.32467478 0.89504565\n",
      " 0.73557306 0.03300585 0.26652696 0.10600338 0.73783937 0.52271406\n",
      " 0.07016721 0.47087446 0.52328264 0.10565427 0.20522844 0.14502957\n",
      " 0.41848785 0.89570139 0.21650832 0.45900018 0.40677844 0.88640775\n",
      " 0.61810219 0.86217349 0.05068744 0.01650713 0.62700352 0.3270471\n",
      " 0.26074133 0.10019453 0.03636318 0.22242751 0.85579111 0.378738\n",
      " 0.09680761 0.07966278 0.02612017 0.26859082 0.72400432 0.15286081\n",
      " 0.54921688 0.51659547 0.07921542 0.27191971 0.19349009 0.09545923\n",
      " 0.02705763 0.57163319 0.21169119 0.94963089 0.71769418 0.01661\n",
      " 0.5907251  0.10293299 0.60447274 0.74674197 0.08843134 0.3967957\n",
      " 0.04806411 0.5170528  0.01725645 0.80927288 0.04923369 0.00146372\n",
      " 0.46173908 0.75204139 0.15031874 0.87688518 0.53172823 0.61489128\n",
      " 0.26179954 0.49965515 0.25307189 0.08519389 0.4835283  0.17880062\n",
      " 0.25657119 0.34798943 0.25729665 0.21441851 0.36839467 0.31655215\n",
      " 0.12581856 0.26205659 0.04592897 0.23761919 0.27242673 0.85512416\n",
      " 0.234136   0.1222385  0.35407822 0.2187242  0.64508507 0.08549838\n",
      " 0.15168601 0.29910198 0.0744614  0.81607725 0.00274579 0.17637652\n",
      " 0.0992223  0.76981988 0.74478693 0.49722734 0.18699392 0.7073625\n",
      " 0.82959456 0.72130615 0.15136456 0.84958672 0.28233352 0.13687671\n",
      " 0.79710512 0.35755759 0.70479748 0.33653129 0.03919089 0.39045347\n",
      " 0.13986971 0.0333307  0.36634092 0.01581586 0.75785069 0.10575224\n",
      " 0.22975558 0.22015831 0.81561871 0.12247303 0.10599331 0.0720919\n",
      " 0.43068903 0.27349001 0.24520446 0.09068675 0.48438312 0.25570733]\n"
     ]
    }
   ],
   "source": [
    "#  wednesday's lecture, logistic regression \n",
    "probability_class_1 = logreg.predict_proba(X_train)[:, 1]\n",
    "print(\"probability_class_1:\", probability_class_1)\n"
   ]
  },
  {
   "cell_type": "markdown",
   "metadata": {},
   "source": [
    "### Extract the probability of a positive for your validation samples"
   ]
  },
  {
   "cell_type": "code",
   "execution_count": 34,
   "metadata": {},
   "outputs": [
    {
     "name": "stdout",
     "output_type": "stream",
     "text": [
      "probability_class_2: [1.69219677e-04 1.24281205e-04 6.85926638e-05 7.15525002e-05\n",
      " 1.08534947e-04 2.12797011e-02 5.89150148e-04 2.11011129e-04\n",
      " 1.13742934e-04 1.67332850e-04 1.09582024e-04 1.72162246e-04\n",
      " 7.50146410e-05 5.17375556e-04 1.33456992e-04 1.53329142e-04\n",
      " 1.97655628e-04 1.34725470e-04 7.36539083e-05 1.17763038e-04\n",
      " 9.12273808e-05 8.31620093e-05 9.79072949e-05 1.54555867e-04\n",
      " 9.94031111e-04 1.22413178e-04 3.17391842e-04 9.12179408e-05\n",
      " 1.23965561e-04 1.44898745e-04 1.57461787e-04 7.78200089e-05\n",
      " 1.35588497e-03 1.26633583e-04 1.27321669e-04 1.12824240e-03\n",
      " 5.90186888e-04 8.78169589e-05 1.14199334e-04 1.58354783e-04\n",
      " 8.46337286e-05 9.08697014e-04 3.07914707e-04 1.84396634e-04\n",
      " 4.68525516e-04 1.24379860e-04 7.72192454e-05 7.53447264e-05\n",
      " 1.45255832e-04 1.00266063e-04 1.94334970e-04 1.09481184e-04\n",
      " 1.29238567e-02 1.68430078e-03 1.18483956e-04 3.54959436e-04\n",
      " 7.66501129e-05 7.00957635e-05 1.36835959e-04 2.93865257e-04\n",
      " 1.97481672e-04 2.70146326e-04 2.26613022e-04 1.60310331e-03\n",
      " 1.93987816e-04 7.88227667e-05 3.19192224e-04 7.89303277e-05\n",
      " 1.13758557e-04 2.12682363e-03 6.03757946e-05 1.17339362e-04\n",
      " 8.70603857e-05 8.74809704e-05 5.66594743e-05 1.71782477e-04\n",
      " 1.36015245e-04 2.40626956e-04 5.73466690e-05 2.89394368e-04\n",
      " 1.32408804e-04 7.45779489e-05 3.33792957e-04 3.23077955e-04\n",
      " 8.77383135e-05 8.52232009e-05 7.71958218e-05 8.40188108e-05\n",
      " 1.05068409e-04 1.72955114e-04 1.21878731e-04 2.43563914e-04\n",
      " 1.00177648e-04 1.43492279e-04 3.91575681e-04 1.37478230e-04\n",
      " 6.63969516e-05 9.59288931e-05 1.06685739e-04 1.29835735e-04\n",
      " 8.25821733e-05 7.19197755e-05 8.46181705e-05 4.95320483e-05\n",
      " 9.48128352e-05 2.99559385e-04 5.84396358e-05 2.26096206e-04\n",
      " 8.18983326e-05 1.17071450e-04 8.20848492e-05 1.20792665e-04\n",
      " 3.14308095e-04 3.77634281e-04 9.26011919e-05 7.51337585e-05]\n"
     ]
    }
   ],
   "source": [
    "# \n",
    "# wednesday logistic regression \n",
    "# \n",
    "probability_class_2 = logreg.predict_proba(X_val)[:, 1]\n",
    "print(\"probability_class_2:\", probability_class_2)"
   ]
  },
  {
   "cell_type": "markdown",
   "metadata": {},
   "source": [
    "### Extract FPR, TPR and thresholds"
   ]
  },
  {
   "cell_type": "code",
   "execution_count": 17,
   "metadata": {},
   "outputs": [
    {
     "ename": "NameError",
     "evalue": "name 'probability_class_2' is not defined",
     "output_type": "error",
     "traceback": [
      "\u001b[0;31m---------------------------------------------------------------------------\u001b[0m",
      "\u001b[0;31mNameError\u001b[0m                                 Traceback (most recent call last)",
      "\u001b[0;32m<ipython-input-17-233415715bf7>\u001b[0m in \u001b[0;36m<module>\u001b[0;34m\u001b[0m\n\u001b[1;32m      1\u001b[0m \u001b[0;32mfrom\u001b[0m \u001b[0msklearn\u001b[0m\u001b[0;34m.\u001b[0m\u001b[0mmetrics\u001b[0m \u001b[0;32mimport\u001b[0m \u001b[0mroc_curve\u001b[0m\u001b[0;34m\u001b[0m\u001b[0;34m\u001b[0m\u001b[0m\n\u001b[0;32m----> 2\u001b[0;31m \u001b[0mfpr_val\u001b[0m\u001b[0;34m,\u001b[0m \u001b[0mtpr_val\u001b[0m\u001b[0;34m,\u001b[0m \u001b[0mthresholds_val\u001b[0m \u001b[0;34m=\u001b[0m \u001b[0mroc_curve\u001b[0m\u001b[0;34m(\u001b[0m\u001b[0my_val\u001b[0m\u001b[0;34m,\u001b[0m \u001b[0mprobability_class_2\u001b[0m\u001b[0;34m[\u001b[0m\u001b[0;34m:\u001b[0m\u001b[0;34m,\u001b[0m\u001b[0;36m1\u001b[0m\u001b[0;34m]\u001b[0m\u001b[0;34m)\u001b[0m\u001b[0;34m\u001b[0m\u001b[0;34m\u001b[0m\u001b[0m\n\u001b[0m",
      "\u001b[0;31mNameError\u001b[0m: name 'probability_class_2' is not defined"
     ]
    }
   ],
   "source": [
    "from sklearn.metrics import roc_curve\n",
    "fpr_val, tpr_val, thresholds_val = roc_curve(y_val, probability_class_2[:,1])"
   ]
  },
  {
   "cell_type": "code",
   "execution_count": 18,
   "metadata": {
    "scrolled": true
   },
   "outputs": [
    {
     "name": "stdout",
     "output_type": "stream",
     "text": [
      "training fpr: [0.         0.         0.         0.00263852 0.00263852 0.00527704\n",
      " 0.00527704 0.00791557 0.00791557 0.01055409 0.01055409 0.01319261\n",
      " 0.01319261 0.01583113 0.01583113 0.02110818 0.02110818 0.0237467\n",
      " 0.0237467  0.02902375 0.02902375 0.03166227 0.03166227 0.03430079\n",
      " 0.03430079 0.04221636 0.04221636 0.04485488 0.04485488 0.0474934\n",
      " 0.0474934  0.05013193 0.05013193 0.05277045 0.05277045 0.05540897\n",
      " 0.05540897 0.05804749 0.05804749 0.06068602 0.06068602 0.06596306\n",
      " 0.06596306 0.07387863 0.07387863 0.07651715 0.07651715 0.08443272\n",
      " 0.08443272 0.08970976 0.08970976 0.09762533 0.09762533 0.1055409\n",
      " 0.1055409  0.11609499 0.11609499 0.11873351 0.11873351 0.12137203\n",
      " 0.12137203 0.12664908 0.12664908 0.1292876  0.1292876  0.14248021\n",
      " 0.14248021 0.14511873 0.14511873 0.14775726 0.14775726 0.15567282\n",
      " 0.15567282 0.16094987 0.16094987 0.16358839 0.16358839 0.16886544\n",
      " 0.16886544 0.176781   0.176781   0.17941953 0.17941953 0.18205805\n",
      " 0.18205805 0.18469657 0.18469657 0.19261214 0.19261214 0.2005277\n",
      " 0.2005277  0.21108179 0.21108179 0.21899736 0.21899736 0.22163588\n",
      " 0.22163588 0.22691293 0.22691293 0.23746702 0.23746702 0.25065963\n",
      " 0.25065963 0.25593668 0.25593668 0.2585752  0.2585752  0.27176781\n",
      " 0.27176781 0.28496042 0.28496042 0.28759894 0.28759894 0.29551451\n",
      " 0.29551451 0.30079156 0.30079156 0.3060686  0.3060686  0.30870712\n",
      " 0.30870712 0.31398417 0.31398417 0.32717678 0.32717678 0.33245383\n",
      " 0.33245383 0.34300792 0.34300792 0.34828496 0.34828496 0.35883905\n",
      " 0.35883905 0.36411609 0.36411609 0.37203166 0.37203166 0.37467018\n",
      " 0.37467018 0.38258575 0.38258575 0.40105541 0.40105541 0.40633245\n",
      " 0.40633245 0.40897098 0.40897098 0.42216359 0.42216359 0.42480211\n",
      " 0.42480211 0.44063325 0.44063325 0.46965699 0.46965699 0.47229551\n",
      " 0.47229551 0.4828496  0.4828496  0.49604222 0.49604222 0.50131926\n",
      " 0.50131926 0.50659631 0.50659631 0.53298153 0.53298153 0.5646438\n",
      " 0.5646438  0.58311346 0.58311346 0.59894459 0.59894459 0.60422164\n",
      " 0.60422164 0.70712401 0.70712401 0.87862797 0.87862797 0.97361478\n",
      " 0.97361478 1.        ] training tpr: [0.         0.00507614 0.03553299 0.03553299 0.04568528 0.04568528\n",
      " 0.06598985 0.06598985 0.0964467  0.0964467  0.12690355 0.12690355\n",
      " 0.14720812 0.14720812 0.23857868 0.23857868 0.25888325 0.25888325\n",
      " 0.29949239 0.29949239 0.31472081 0.31472081 0.3857868  0.3857868\n",
      " 0.41116751 0.41116751 0.41624365 0.41624365 0.42639594 0.42639594\n",
      " 0.43147208 0.43147208 0.43654822 0.43654822 0.44670051 0.44670051\n",
      " 0.45685279 0.45685279 0.46700508 0.46700508 0.48730964 0.48730964\n",
      " 0.50253807 0.50253807 0.52791878 0.52791878 0.53299492 0.53299492\n",
      " 0.54314721 0.54314721 0.55329949 0.55329949 0.56345178 0.56345178\n",
      " 0.56852792 0.56852792 0.59390863 0.59390863 0.59898477 0.59898477\n",
      " 0.60406091 0.60406091 0.60913706 0.60913706 0.6142132  0.6142132\n",
      " 0.62436548 0.62436548 0.62944162 0.62944162 0.63451777 0.63451777\n",
      " 0.64467005 0.64467005 0.64974619 0.64974619 0.65482234 0.65482234\n",
      " 0.65989848 0.65989848 0.66497462 0.66497462 0.67005076 0.67005076\n",
      " 0.68020305 0.68020305 0.69035533 0.69035533 0.69543147 0.69543147\n",
      " 0.70558376 0.70558376 0.72081218 0.72081218 0.72588832 0.72588832\n",
      " 0.73096447 0.73096447 0.76142132 0.76142132 0.76649746 0.76649746\n",
      " 0.7715736  0.7715736  0.77664975 0.77664975 0.78172589 0.78172589\n",
      " 0.78680203 0.78680203 0.80203046 0.80203046 0.8071066  0.8071066\n",
      " 0.81218274 0.81218274 0.81725888 0.81725888 0.82233503 0.82233503\n",
      " 0.82741117 0.82741117 0.83756345 0.83756345 0.84263959 0.84263959\n",
      " 0.84771574 0.84771574 0.85786802 0.85786802 0.86294416 0.86294416\n",
      " 0.8680203  0.8680203  0.87309645 0.87309645 0.87817259 0.87817259\n",
      " 0.88324873 0.88324873 0.88832487 0.88832487 0.89340102 0.89340102\n",
      " 0.89847716 0.89847716 0.90862944 0.90862944 0.91370558 0.91370558\n",
      " 0.91878173 0.91878173 0.92385787 0.92385787 0.92893401 0.92893401\n",
      " 0.93401015 0.93401015 0.93908629 0.93908629 0.94416244 0.94416244\n",
      " 0.95431472 0.95431472 0.95939086 0.95939086 0.96446701 0.96446701\n",
      " 0.96954315 0.96954315 0.97461929 0.97461929 0.97969543 0.97969543\n",
      " 0.98477157 0.98477157 0.98984772 0.98984772 0.99492386 0.99492386\n",
      " 1.         1.        ] training thresholds: [1.99057580e+00 9.90575801e-01 9.55623786e-01 9.53278668e-01\n",
      " 9.49630887e-01 9.48623257e-01 9.24002722e-01 9.20487114e-01\n",
      " 8.95664786e-01 8.95045651e-01 8.80473670e-01 8.77147880e-01\n",
      " 8.68870936e-01 8.67304468e-01 8.26175237e-01 8.15763960e-01\n",
      " 7.97066035e-01 7.94967422e-01 7.63826078e-01 7.57850690e-01\n",
      " 7.52016351e-01 7.51781200e-01 7.21306155e-01 7.18633659e-01\n",
      " 7.07362504e-01 7.03018320e-01 7.00235736e-01 6.94152087e-01\n",
      " 6.91689668e-01 6.91581555e-01 6.91482196e-01 6.89158409e-01\n",
      " 6.85061256e-01 6.77213097e-01 6.74763229e-01 6.72836463e-01\n",
      " 6.65837011e-01 6.61026857e-01 6.51461945e-01 6.47622715e-01\n",
      " 6.28647865e-01 6.27003521e-01 6.19419634e-01 6.13238587e-01\n",
      " 6.03949090e-01 5.91615222e-01 5.90725100e-01 5.79980759e-01\n",
      " 5.71633189e-01 5.69297636e-01 5.66948808e-01 5.55035789e-01\n",
      " 5.49216884e-01 5.29772899e-01 5.25921837e-01 5.21045833e-01\n",
      " 4.99655150e-01 4.97227342e-01 4.84383115e-01 4.83528303e-01\n",
      " 4.83036289e-01 4.80458608e-01 4.73298914e-01 4.70874456e-01\n",
      " 4.70578434e-01 4.56212601e-01 4.50339504e-01 4.50227399e-01\n",
      " 4.43685472e-01 4.38510812e-01 4.34143966e-01 4.27386418e-01\n",
      " 4.24635213e-01 4.18487849e-01 4.16275052e-01 4.16067000e-01\n",
      " 4.08423326e-01 4.02865941e-01 4.02778337e-01 3.93938769e-01\n",
      " 3.90453468e-01 3.90090293e-01 3.89386442e-01 3.84585382e-01\n",
      " 3.78737996e-01 3.77802863e-01 3.74281476e-01 3.69384279e-01\n",
      " 3.69284440e-01 3.66340923e-01 3.61829954e-01 3.54765412e-01\n",
      " 3.51833481e-01 3.47989428e-01 3.47133348e-01 3.45923196e-01\n",
      " 3.37969121e-01 3.27047102e-01 3.16552151e-01 3.07451669e-01\n",
      " 3.06806717e-01 3.02777286e-01 3.02371078e-01 2.98912709e-01\n",
      " 2.97388956e-01 2.94355387e-01 2.94249949e-01 2.85267780e-01\n",
      " 2.84679140e-01 2.79775834e-01 2.75729599e-01 2.75703910e-01\n",
      " 2.73490015e-01 2.72305168e-01 2.72292242e-01 2.70883243e-01\n",
      " 2.70127047e-01 2.66815072e-01 2.66526958e-01 2.64039163e-01\n",
      " 2.62056586e-01 2.61167269e-01 2.57296651e-01 2.53071894e-01\n",
      " 2.51860224e-01 2.50454222e-01 2.49903474e-01 2.43036385e-01\n",
      " 2.39910548e-01 2.35741318e-01 2.34135999e-01 2.29755577e-01\n",
      " 2.28465475e-01 2.25376160e-01 2.23010358e-01 2.22668777e-01\n",
      " 2.22427513e-01 2.20158312e-01 2.18754972e-01 2.17802043e-01\n",
      " 2.16508321e-01 2.05906264e-01 2.05655056e-01 2.04156354e-01\n",
      " 2.04156170e-01 2.03571565e-01 1.99692557e-01 1.93490086e-01\n",
      " 1.93447476e-01 1.93371507e-01 1.92362524e-01 1.84273485e-01\n",
      " 1.78951140e-01 1.65291129e-01 1.65052602e-01 1.64725570e-01\n",
      " 1.64679397e-01 1.59946895e-01 1.59580748e-01 1.54653358e-01\n",
      " 1.54324583e-01 1.52592873e-01 1.51386327e-01 1.51194947e-01\n",
      " 1.50318739e-01 1.42753291e-01 1.41998694e-01 1.31935029e-01\n",
      " 1.30690688e-01 1.25818564e-01 1.25465723e-01 1.16994796e-01\n",
      " 1.16063835e-01 1.11592939e-01 1.11381657e-01 9.06867498e-02\n",
      " 9.00415813e-02 4.24851342e-02 4.22341647e-02 1.65071283e-02\n",
      " 1.58158575e-02 1.46372386e-03]\n",
      "validation fpr: [0.         0.         0.         0.01162791 0.01162791 0.02325581\n",
      " 0.02325581 0.03488372 0.03488372 0.08139535 0.08139535 0.1627907\n",
      " 0.1627907  0.29069767 0.29069767 0.39534884 0.39534884 0.43023256\n",
      " 0.43023256 0.45348837 0.45348837 0.5        0.5        0.51162791\n",
      " 0.51162791 0.56976744 0.56976744 0.73255814 0.73255814 0.74418605\n",
      " 0.74418605 0.80232558 0.80232558 0.86046512 0.86046512 0.94186047\n",
      " 0.94186047 1.        ] validation tpr: [0.         0.03333333 0.06666667 0.06666667 0.13333333 0.13333333\n",
      " 0.2        0.2        0.23333333 0.23333333 0.26666667 0.26666667\n",
      " 0.4        0.4        0.46666667 0.46666667 0.53333333 0.53333333\n",
      " 0.6        0.6        0.66666667 0.66666667 0.7        0.7\n",
      " 0.73333333 0.73333333 0.76666667 0.76666667 0.86666667 0.86666667\n",
      " 0.9        0.9        0.93333333 0.93333333 0.96666667 0.96666667\n",
      " 1.         1.        ] validation thresholds: [1.02127970e+00 2.12797011e-02 1.29238567e-02 2.12682363e-03\n",
      " 1.60310331e-03 1.35588497e-03 9.94031111e-04 9.08697014e-04\n",
      " 5.90186888e-04 3.91575681e-04 3.77634281e-04 3.07914707e-04\n",
      " 2.70146326e-04 1.72955114e-04 1.71782477e-04 1.43492279e-04\n",
      " 1.36835959e-04 1.33456992e-04 1.29835735e-04 1.26633583e-04\n",
      " 1.24281205e-04 1.20792665e-04 1.18483956e-04 1.17763038e-04\n",
      " 1.17339362e-04 1.09582024e-04 1.09481184e-04 8.74809704e-05\n",
      " 8.46337286e-05 8.46181705e-05 8.40188108e-05 7.89303277e-05\n",
      " 7.88227667e-05 7.53447264e-05 7.51337585e-05 6.85926638e-05\n",
      " 6.63969516e-05 4.95320483e-05]\n"
     ]
    }
   ],
   "source": [
    "from sklearn.metrics import  roc_curve\n",
    "# \n",
    "# \n",
    "# Thursday evaluating classifiers onwards \n",
    "train_fpr, train_tpr, thresholds = roc_curve(y_train, y_train_score)\n",
    "val_fpr, val_tpr, val_thresholds = roc_curve(y_val, y_val_score)\n",
    "print(\"training fpr:\", train_fpr, \"training tpr:\", train_tpr, \"training thresholds:\", thresholds)\n",
    "print(\"validation fpr:\", val_fpr, \"validation tpr:\", val_tpr, \"validation thresholds:\", val_thresholds)"
   ]
  },
  {
   "cell_type": "markdown",
   "metadata": {},
   "source": [
    "### Plot the ROC curves for your training, validation (and, if you are done, test) datasets"
   ]
  },
  {
   "cell_type": "code",
   "execution_count": 35,
   "metadata": {},
   "outputs": [
    {
     "name": "stdout",
     "output_type": "stream",
     "text": [
      "Validation AUC: 0.6375968992248062\n"
     ]
    },
    {
     "data": {
      "image/png": "[encoded data removed]",
      "text/plain": [
       "<Figure size 720x576 with 1 Axes>"
      ]
     },
     "metadata": {},
     "output_type": "display_data"
    }
   ],
   "source": [
    "#I have plotted the training above. \n",
    "\n",
    "# Seaborn's beautiful styling\n",
    "sns.set_style('darkgrid', {'axes.facecolor': '0.9'})\n",
    "\n",
    "# ROC curve for training set\n",
    "plt.figure(figsize=(10, 8))\n",
    "lw = 2\n",
    "plt.plot(train_fpr, train_tpr, color='darkorange',\n",
    "         lw=lw, label='ROC curve')\n",
    "plt.plot([0, 1], [0, 1], color='navy', lw=lw, linestyle='--')\n",
    "plt.xlim([0.0, 1.0])\n",
    "plt.ylim([0.0, 1.05])\n",
    "plt.yticks([i/20.0 for i in range(21)])\n",
    "plt.xticks([i/20.0 for i in range(21)])\n",
    "plt.xlabel('False Positive Rate')\n",
    "plt.ylabel('True Positive Rate')\n",
    "plt.title('Receiver operating characteristic (ROC) Curve for Validation Set')\n",
    "plt.legend(loc='lower right')\n",
    "print('Validation AUC: {}'.format(auc(val_fpr, val_tpr)))\n",
    "plt.show()"
   ]
  },
  {
   "cell_type": "code",
   "execution_count": 53,
   "metadata": {},
   "outputs": [],
   "source": [
    "y_test_score = clf.predict_proba(X_test)[:, 1]\n",
    "\n",
    "# Calculate the fpr, tpr, and thresholds for the test set\n",
    "test_fpr, test_tpr, test_thresholds = roc_curve(y_test, y_test_score)"
   ]
  },
  {
   "cell_type": "code",
   "execution_count": 54,
   "metadata": {},
   "outputs": [
    {
     "data": {
      "image/png": "[encoded data removed]",
      "text/plain": [
       "<Figure size 1152x720 with 1 Axes>"
      ]
     },
     "metadata": {},
     "output_type": "display_data"
    }
   ],
   "source": [
    "plt.figure(figsize=(16,10))\n",
    "plt.plot([0, 1], [0, 1], 'k--')\n",
    "plt.plot(train_fpr, train_tpr, label='Training')\n",
    "plt.plot(val_fpr, val_tpr, label='Validation')\n",
    "plt.plot(test_fpr, test_tpr, label='Test')\n",
    "\n",
    "\n",
    "plt.xlabel('False positive rate')\n",
    "plt.ylabel('True positive rate')\n",
    "plt.title('ROC curve')\n",
    "plt.legend(loc='best')\n",
    "\n",
    "plt.show()"
   ]
  },
  {
   "cell_type": "markdown",
   "metadata": {},
   "source": [
    "# Threshold selection"
   ]
  },
  {
   "cell_type": "markdown",
   "metadata": {},
   "source": [
    "### Estimate the prevalence in the environment where your model will be used"
   ]
  },
  {
   "cell_type": "code",
   "execution_count": 52,
   "metadata": {},
   "outputs": [],
   "source": [
    "estimation = .105 #10.5%"
   ]
  },
  {
   "cell_type": "markdown",
   "metadata": {},
   "source": [
    "### Estimate the costs for each unit of your FPs, TNs, FNs and TPs\n",
    "**Hint:** You don't have data for this. You will have to do some research and deep thinking<br>\n",
    "**Hint 2:** think of a £ value or something else that non-technical stakeholders could relate to<br>\n",
    "**Hint 3:** They are going to be approximations and that's fine. Just create a good logic.<br>"
   ]
  },
  {
   "cell_type": "code",
   "execution_count": null,
   "metadata": {},
   "outputs": [],
   "source": [
    "FPc = \n",
    "TNc = \n",
    "FNc = \n",
    "TPc =\n"
   ]
  },
  {
   "cell_type": "markdown",
   "metadata": {},
   "source": [
    "### Calculate your m parameter"
   ]
  },
  {
   "cell_type": "markdown",
   "metadata": {},
   "source": [
    "Calculate prevalance and costs, this allows us to calculate m. because m is lower than 1, that means that FPR will be multiplied by .2 which will be the equivalent of dividing by 5. This will give more importance to TPR. The fm calculation is dependent on this as FPR reduces. "
   ]
  },
  {
   "cell_type": "code",
   "execution_count": null,
   "metadata": {},
   "outputs": [],
   "source": [
    "# (1 - prevalance)/prevalence * (FPc-TNc)/(FNc-TPc)\n",
    "# \n",
    "# \n",
    "# \n",
    "# "
   ]
  },
  {
   "cell_type": "markdown",
   "metadata": {},
   "source": [
    "### Calculate fm for each threshold"
   ]
  },
  {
   "cell_type": "code",
   "execution_count": null,
   "metadata": {},
   "outputs": [],
   "source": [
    "# fm_list = tpr_test-(m*fpr_test)\n",
    "# list(zip(fm_list.tolist(), thresholds_test.tolist()))\n",
    "# \n",
    "# can do this in pandas as well\n",
    "# "
   ]
  },
  {
   "cell_type": "markdown",
   "metadata": {},
   "source": [
    "### Select the threshold with the highest fm score"
   ]
  },
  {
   "cell_type": "code",
   "execution_count": null,
   "metadata": {},
   "outputs": [],
   "source": [
    "# \n",
    "# \n",
    "# \n",
    "# \n",
    "# "
   ]
  },
  {
   "cell_type": "markdown",
   "metadata": {},
   "source": [
    "### Plot the confusion matrix for your selected threshold"
   ]
  },
  {
   "cell_type": "code",
   "execution_count": 19,
   "metadata": {},
   "outputs": [],
   "source": [
    "from sklearn.metrics import confusion_matrix \n",
    "# probs_list = probs_test[:, 1].tolist()\n",
    "# \n",
    "# \n",
    "# "
   ]
  },
  {
   "cell_type": "code",
   "execution_count": 20,
   "metadata": {},
   "outputs": [],
   "source": [
    "#confusion_matric(y_test.tolist(), my_results)"
   ]
  },
  {
   "cell_type": "markdown",
   "metadata": {},
   "source": [
    "### Calculate your alpha / power / precision / accuracy\n",
    "(Don't use any library for this exercise, in real life you can though)\n",
    "\n",
    "# ON CODE CHALLENGE #"
   ]
  },
  {
   "cell_type": "code",
   "execution_count": null,
   "metadata": {},
   "outputs": [],
   "source": [
    "# alpha = fpr\n",
    "# power = \n",
    "# precision = tp/all positives\n",
    "# accuracy = right/all things\n",
    "# "
   ]
  },
  {
   "cell_type": "markdown",
   "metadata": {},
   "source": [
    "### Explain in non-technical terms your alpha / power / precision / accuracy"
   ]
  },
  {
   "cell_type": "code",
   "execution_count": null,
   "metadata": {},
   "outputs": [],
   "source": [
    "# \n",
    "# \n",
    "# \n",
    "# \n",
    "# "
   ]
  },
  {
   "cell_type": "markdown",
   "metadata": {},
   "source": [
    "# Actionable problem solving recommendations"
   ]
  },
  {
   "cell_type": "markdown",
   "metadata": {},
   "source": [
    "### Write a brief paragraph telling your stakeholders something they can **DO** to be better off based on your model"
   ]
  },
  {
   "cell_type": "code",
   "execution_count": null,
   "metadata": {},
   "outputs": [],
   "source": [
    "# \n",
    "# \n",
    "# \n",
    "# \n",
    "# "
   ]
  }
 ],
 "metadata": {
  "kernelspec": {
   "display_name": "Python 3",
   "language": "python",
   "name": "python3"
  },
  "language_info": {
   "codemirror_mode": {
    "name": "ipython",
    "version": 3
   },
   "file_extension": ".py",
   "mimetype": "text/x-python",
   "name": "python",
   "nbconvert_exporter": "python",
   "pygments_lexer": "ipython3",
   "version": "3.7.4"
  }
 },
 "nbformat": 4,
 "nbformat_minor": 2
}
